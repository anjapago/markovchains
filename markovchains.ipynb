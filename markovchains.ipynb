{
 "cells": [
  {
   "cell_type": "markdown",
   "metadata": {},
   "source": [
    "# Markov Chains\n",
    "\n",
    "Consider the following markov chains:\n",
    "\n",
    "* An absorbing chain with states $\\{1,2,3,4\\}$. The transient states are $2$ and $3$, and the two absorbing barriers are states $1$ and $4$.\n",
    "* An ergodic chain with 3 states"
   ]
  },
  {
   "cell_type": "markdown",
   "metadata": {},
   "source": [
    "## Absorbic Markov Chain\n",
    "\n",
    "Calculate the absorbic probabities of an absorbing markov chain and verify the result by simulation.\n",
    "\n",
    "The transition probabilities for an example absorbic markov chain is shown in matrix $M_{abs}$.\n",
    "\n",
    "$$M_{abs} = \\begin{bmatrix} m_{11} & m_{12} & m_{13} & m_{14} \\\\ m_{21} & m_{22} & m_{23} & m_{24} \\\\ m_{31} & m_{32} & m_{33} & m_{34} \\\\ m_{41} & m_{42} & m_{43} & m_{44}\\end{bmatrix} = \\begin{bmatrix} 1 & 0 & 0 & 0 \\\\ 0.1 & 0.2 & 0.3 & 0.4 \\\\ 0.5 & 0.1 & 0.1 & 0.3 \\\\ 0 & 0 & 0 & 1\\end{bmatrix}$$\n",
    "\n",
    "In this example, state $1$ and $4$ are the absorbing barriers and state $2$ and $3$ are the transient states. The matrix of the transient states is $M_{\\tau}$.\n",
    "\n",
    "$$M_{\\tau} = \\begin{bmatrix} m_{22} & m_{23}\\\\ m_{32} & m_{33}\\end{bmatrix} = \\begin{bmatrix}0.2 & 0.3\\\\0.1 & 0.1\\end{bmatrix}$$\n",
    "\n",
    "The absorbing probabilities of this matrix are $f_{21}$, $f_{24}$, $f_{31}$, $f_{34}$. The probability of transitioning from state $2$ to end up in state $4$ is $f_{24}$, and the probability of transition from state $3$ to end up in state $4$ is $f_{34}$. The probability of transitioning from state $2$ to end up in state $1$ is $f_{21}$, and the probability of transition from state $3$ to end up in state $1$ is $f_{31}$. \n",
    "\n",
    "### Calculate Absorbic Probabilities\n",
    "\n",
    "To calculate these absorbing probabilites with a closed form exact solution, the equation is as follows:\n",
    "$$\\begin{bmatrix} f_{24} \\\\ f_{34} \\end{bmatrix} = (I-M_{\\tau})^{-1}\\begin{bmatrix} m_{24} \\\\ m_{34} \\end{bmatrix} = \\begin{bmatrix}1-0.2 & -0.3\\\\-0.1 & 1-0.1\\end{bmatrix}^{-1}\\begin{bmatrix} 0.4 \\\\ 0.3 \\end{bmatrix}$$\n",
    "$$\\begin{bmatrix} f_{21} \\\\ f_{31} \\end{bmatrix} = (I-M_{\\tau})^{-1}\\begin{bmatrix} m_{21} \\\\ m_{31} \\end{bmatrix} = \\begin{bmatrix}1-0.2 & -0.3\\\\-0.1 & 1-0.1\\end{bmatrix}^{-1}\\begin{bmatrix} 0.1 \\\\ 0.5 \\end{bmatrix}$$\n",
    "\n",
    "Also note that since the final state must be either $1$ or $4$ regardless of the starting state, $f_{21} + f_{24} = 1$, and $f_{31} + f_{34} = 1$.\n",
    "\n",
    "These results will be calculated in the following code."
   ]
  },
  {
   "cell_type": "code",
   "execution_count": 9,
   "metadata": {
    "collapsed": true
   },
   "outputs": [],
   "source": [
    "import numpy as np\n",
    "from numpy.linalg import inv"
   ]
  },
  {
   "cell_type": "code",
   "execution_count": 32,
   "metadata": {},
   "outputs": [
    {
     "data": {
      "text/plain": [
       "matrix([[ 1.],\n",
       "        [ 1.]])"
      ]
     },
     "execution_count": 32,
     "metadata": {},
     "output_type": "execute_result"
    }
   ],
   "source": [
    "# calculate absorbic properties\n",
    "Mabs = np.matrix([[1,0,0,0], [0.1, 0.2, 0.3, 0.4], [0.5, 0.1, 0.1, 0.3], [0,0,0,1]])\n",
    "Mtrans= Mabs[1:3, 1:3]\n",
    "m4 = Mabs[1:3, 3] # the transition probabilities for state 4\n",
    "m1 = Mabs[1:3, 0] # the transition probabilities for state 1\n",
    "\n",
    "# absorbing probabilities for state 4:\n",
    "f4 = np.dot(inv(np.identity(2)- Mtrans),m4)\n",
    "\n",
    "# absorbing probabilities for state 4:\n",
    "f1 = np.dot(inv(np.identity(2)- Mtrans),m1)"
   ]
  },
  {
   "cell_type": "code",
   "execution_count": 34,
   "metadata": {},
   "outputs": [
    {
     "data": {
      "text/plain": [
       "matrix([[ 1.],\n",
       "        [ 1.]])"
      ]
     },
     "execution_count": 34,
     "metadata": {},
     "output_type": "execute_result"
    }
   ],
   "source": [
    "# confirm that f1+f4=1\n",
    "f1+f4"
   ]
  },
  {
   "cell_type": "code",
   "execution_count": 43,
   "metadata": {},
   "outputs": [
    {
     "data": {
      "text/plain": [
       "matrix([[ 0.65217391],\n",
       "        [ 0.4057971 ]])"
      ]
     },
     "execution_count": 43,
     "metadata": {},
     "output_type": "execute_result"
    }
   ],
   "source": [
    "# the absorbing probabilities for state 4:\n",
    "f4"
   ]
  },
  {
   "cell_type": "code",
   "execution_count": 42,
   "metadata": {},
   "outputs": [
    {
     "data": {
      "text/plain": [
       "matrix([[ 0.34782609],\n",
       "        [ 0.5942029 ]])"
      ]
     },
     "execution_count": 42,
     "metadata": {},
     "output_type": "execute_result"
    }
   ],
   "source": [
    "# the absorbing probabilities for state 1:\n",
    "# confirm that f1+f4=1\n",
    "f1"
   ]
  },
  {
   "cell_type": "markdown",
   "metadata": {},
   "source": [
    "### Verify Results by Simulation\n",
    "\n",
    "Since every starting state will eventually get stuck in either state $1$ or state $4$, run a simulation of the markov chain until one of these two states is reached. Repeat this for many experiments, to determine the absorbic probabilities of each absorbing state.\n",
    "\n",
    "To start the simulation, the distribution for the starting state is required: $\\Pi (0)$.\n",
    "\n",
    "This can be specified by a vector of probabilities of starting in each of the 4 states. Once the starting state is chosen, it would be denoted by a 1 in that position of a vector and 0 in all other positions. \n",
    "\n",
    "To determine the state after one step in the chain, $\\Pi(1)$, this would be determined by the state at time $0$, and the transition probabilities of that state. For example, if the state chosen for $\\Pi (0)$ is $2$, then the next state chosen will be determined by the transition probablities associated with state $2$.\n",
    "\n",
    "$$\\Pi(1) = M_{abs}^T\\Pi(0) = M{abs}^T\\begin{bmatrix} 0 \\\\ 1 \\\\ 0 \\\\ 0\\end{bmatrix}$$"
   ]
  },
  {
   "cell_type": "code",
   "execution_count": 87,
   "metadata": {},
   "outputs": [],
   "source": [
    "# choose starting state:\n",
    "state0 = 2\n",
    "\n",
    "# create the state vector\n",
    "statevec = np.zeros((numstates,1))\n",
    "statevec[state0-1]=1\n",
    "\n",
    "# get transition probabilities of current state\n",
    "statetransprobs = np.dot(Mabs.T, statevec)\n",
    "\n",
    "# choose the next state based on the current state transition probabilities\n",
    "np.random.seed(1)\n",
    "currstate = np.random.choice(a= list(range(numstates)), p=np.squeeze(np.asarray(statetransprobs)))\n",
    "\n",
    "# this completes one step of the markov chain, repeat until it reaches either state 1 or 4"
   ]
  },
  {
   "cell_type": "code",
   "execution_count": null,
   "metadata": {
    "collapsed": true
   },
   "outputs": [],
   "source": [
    "# iterate through markov chain until it reaches an absorbic state\n",
    "absorbic_states = [1, 4]\n",
    "currstate=2\n",
    "i=1\n",
    "\n",
    "while currstate not in absorbic_states:\n",
    "    statevec = np.zeros((numstates,1))\n",
    "    statevec[currstate-1]=1\n",
    "    statetransprobs = np.dot(Mabs.T, statevec)\n",
    "    np.random.seed(i)\n",
    "    i+=1\n",
    "    currstate = np.random.choice(a= list(range(numstates)), p=np.squeeze(np.asarray(statetransprobs)))"
   ]
  },
  {
   "cell_type": "code",
   "execution_count": 90,
   "metadata": {},
   "outputs": [
    {
     "data": {
      "text/plain": [
       "True"
      ]
     },
     "execution_count": 90,
     "metadata": {},
     "output_type": "execute_result"
    }
   ],
   "source": [
    "absorbic_states = [1, 4]\n",
    "2 not in absorbic_states"
   ]
  },
  {
   "cell_type": "code",
   "execution_count": null,
   "metadata": {
    "collapsed": true
   },
   "outputs": [],
   "source": [
    "i=1\n",
    "i++"
   ]
  }
 ],
 "metadata": {
  "kernelspec": {
   "display_name": "Python 3",
   "language": "python",
   "name": "python3"
  },
  "language_info": {
   "codemirror_mode": {
    "name": "ipython",
    "version": 3
   },
   "file_extension": ".py",
   "mimetype": "text/x-python",
   "name": "python",
   "nbconvert_exporter": "python",
   "pygments_lexer": "ipython3",
   "version": "3.6.2"
  }
 },
 "nbformat": 4,
 "nbformat_minor": 2
}
