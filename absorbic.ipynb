{
 "cells": [
  {
   "cell_type": "markdown",
   "metadata": {},
   "source": [
    "# Absorbic Markov Chains\n",
    "\n",
    "An absorbic markov chain is a markov chain with some states that can not be stepped out of. Once one of these \"absorbic states\" is entered, that state will indefinitely remain the stte the chain stays in. \n",
    "Consider an absorbing markov chain with states $\\{1,2,3,4\\}$. The transient states are $2$ and $3$, and the two absorbing barriers are states $1$ and $4$. This notebook will calculate the absorbing probabilities with an exact equation, and through simulations."
   ]
  },
  {
   "cell_type": "markdown",
   "metadata": {},
   "source": [
    "## Transition Matrix\n",
    "\n",
    "The transition probabilities for an example absorbic markov chain is shown in matrix $M_{abs}$.\n",
    "\n",
    "$$M_{abs} = \\begin{bmatrix} m_{11} & m_{12} & m_{13} & m_{14} \\\\ m_{21} & m_{22} & m_{23} & m_{24} \\\\ m_{31} & m_{32} & m_{33} & m_{34} \\\\ m_{41} & m_{42} & m_{43} & m_{44}\\end{bmatrix} = \\begin{bmatrix} 1 & 0 & 0 & 0 \\\\ 0.1 & 0.2 & 0.3 & 0.4 \\\\ 0.5 & 0.1 & 0.1 & 0.3 \\\\ 0 & 0 & 0 & 1\\end{bmatrix}$$\n",
    "\n",
    "In this example, state $1$ and $4$ are the absorbing barriers and state $2$ and $3$ are the transient states. The matrix of the transient states is $M_{\\tau}$.\n",
    "\n",
    "$$M_{\\tau} = \\begin{bmatrix} m_{22} & m_{23}\\\\ m_{32} & m_{33}\\end{bmatrix} = \\begin{bmatrix}0.2 & 0.3\\\\0.1 & 0.1\\end{bmatrix}$$\n",
    "\n",
    "The absorbing probabilities of this matrix are $f_{21}$, $f_{24}$, $f_{31}$, $f_{34}$. The probability of transitioning from state $2$ to end up in state $4$ is $f_{24}$, and the probability of transition from state $3$ to end up in state $4$ is $f_{34}$. The probability of transitioning from state $2$ to end up in state $1$ is $f_{21}$, and the probability of transition from state $3$ to end up in state $1$ is $f_{31}$. \n",
    "\n",
    "## Calculate Absorbic Probabilities\n",
    "\n",
    "To calculate these absorbing probabilites with a closed form exact solution, the equation is as follows:\n",
    "$$\\begin{bmatrix} f_{24} \\\\ f_{34} \\end{bmatrix} = (I-M_{\\tau})^{-1}\\begin{bmatrix} m_{24} \\\\ m_{34} \\end{bmatrix} = \\begin{bmatrix}1-0.2 & -0.3\\\\-0.1 & 1-0.1\\end{bmatrix}^{-1}\\begin{bmatrix} 0.4 \\\\ 0.3 \\end{bmatrix}$$\n",
    "$$\\begin{bmatrix} f_{21} \\\\ f_{31} \\end{bmatrix} = (I-M_{\\tau})^{-1}\\begin{bmatrix} m_{21} \\\\ m_{31} \\end{bmatrix} = \\begin{bmatrix}1-0.2 & -0.3\\\\-0.1 & 1-0.1\\end{bmatrix}^{-1}\\begin{bmatrix} 0.1 \\\\ 0.5 \\end{bmatrix}$$\n",
    "\n",
    "Also note that since the final state must be either $1$ or $4$ regardless of the starting state, $f_{21} + f_{24} = 1$, and $f_{31} + f_{34} = 1$.\n",
    "\n",
    "These results will be calculated in the following code."
   ]
  },
  {
   "cell_type": "code",
   "execution_count": 1,
   "metadata": {
    "collapsed": true
   },
   "outputs": [],
   "source": [
    "import numpy as np\n",
    "from numpy.linalg import inv"
   ]
  },
  {
   "cell_type": "code",
   "execution_count": 2,
   "metadata": {
    "collapsed": true
   },
   "outputs": [],
   "source": [
    "# calculate absorbic properties\n",
    "Mabs = np.matrix([[1,0,0,0], [0.1, 0.2, 0.3, 0.4], \n",
    "                  [0.5, 0.1, 0.1, 0.3], [0,0,0,1]])\n",
    "Mtrans= Mabs[1:3, 1:3]\n",
    "m4 = Mabs[1:3, 3] # the transition probabilities for state 4\n",
    "m1 = Mabs[1:3, 0] # the transition probabilities for state 1\n",
    "\n",
    "# absorbing probabilities for state 4:\n",
    "f4 = np.dot(inv(np.identity(2)- Mtrans),m4)\n",
    "\n",
    "# absorbing probabilities for state 4:\n",
    "f1 = np.dot(inv(np.identity(2)- Mtrans),m1)"
   ]
  },
  {
   "cell_type": "code",
   "execution_count": 3,
   "metadata": {},
   "outputs": [
    {
     "data": {
      "text/plain": [
       "matrix([[ 1.],\n",
       "        [ 1.]])"
      ]
     },
     "execution_count": 3,
     "metadata": {},
     "output_type": "execute_result"
    }
   ],
   "source": [
    "# confirm that f1+f4=1\n",
    "f1+f4"
   ]
  },
  {
   "cell_type": "code",
   "execution_count": 4,
   "metadata": {
    "collapsed": true
   },
   "outputs": [],
   "source": [
    "fprobs = np.concatenate((f1, f4), axis=1)"
   ]
  },
  {
   "cell_type": "markdown",
   "metadata": {},
   "source": [
    "## Verify Results by Simulation\n",
    "\n",
    "Since every starting state will eventually get stuck in either state $1$ or state $4$, run a simulation of the markov chain until one of these two states is reached. Repeat this for many experiments, to determine the absorbic probabilities of each absorbing state.\n",
    "\n",
    "To start the simulation, the distribution for the starting state is required: $\\Pi (0)$.\n",
    "\n",
    "This can be specified by a vector of probabilities of starting in each of the 4 states. Once the starting state is chosen, it would be denoted by a 1 in that position of a vector and 0 in all other positions. \n",
    "\n",
    "To determine the state after one step in the chain, $\\Pi(1)$, this would be determined by the state at time $0$, and the transition probabilities of that state. For example, if the state chosen for $\\Pi (0)$ is $2$, then the next state chosen will be determined by the transition probablities associated with state $2$.\n",
    "\n",
    "$$\\Pi(1) = M_{abs}^T\\Pi(0) = M{abs}^T\\begin{bmatrix} 0 \\\\ 1 \\\\ 0 \\\\ 0\\end{bmatrix}$$\n",
    "\n",
    "### One step in the chain\n",
    "The following code will show calculations for taking one step in the markov chain."
   ]
  },
  {
   "cell_type": "code",
   "execution_count": 5,
   "metadata": {},
   "outputs": [
    {
     "data": {
      "text/plain": [
       "1"
      ]
     },
     "execution_count": 5,
     "metadata": {},
     "output_type": "execute_result"
    }
   ],
   "source": [
    "# choose starting state:\n",
    "state0 = 2\n",
    "numstates = Mabs.shape[0]\n",
    "\n",
    "# create the state vector\n",
    "statevec = np.zeros((numstates,1))\n",
    "statevec[state0-1]=1\n",
    "\n",
    "# get transition probabilities of current state\n",
    "statetransprobs = np.dot(Mabs.T, statevec)\n",
    "\n",
    "# choose the next state based on the current state transition probabilities\n",
    "np.random.seed(7)\n",
    "currstate = np.random.choice(a= list(range(numstates)), \n",
    "                             p=np.squeeze(np.asarray(statetransprobs)))+1\n",
    "\n",
    "# this completes one step of the markov chain, repeat until it reaches either state 1 or 4\n",
    "currstate"
   ]
  },
  {
   "cell_type": "markdown",
   "metadata": {},
   "source": [
    "### One Run of the Chain\n",
    "The following code will demonstrate running the markov chain until it reaches an absorbic state."
   ]
  },
  {
   "cell_type": "code",
   "execution_count": 6,
   "metadata": {},
   "outputs": [
    {
     "name": "stdout",
     "output_type": "stream",
     "text": [
      "2\n",
      "3\n",
      "The final state is: 1\n"
     ]
    }
   ],
   "source": [
    "# iterate through markov chain until it reaches an absorbic state\n",
    "absorbic_states = [1, 4]\n",
    "currstate=2\n",
    "np.random.seed(100)\n",
    "\n",
    "while currstate not in absorbic_states:\n",
    "    statevec = np.zeros((numstates,1))\n",
    "    statevec[currstate-1]=1\n",
    "    statetransprobs = np.dot(Mabs.T, statevec)\n",
    "    print(currstate)\n",
    "    currstate = np.random.choice(a= list(range(numstates)), \n",
    "                                 p=np.squeeze(np.asarray(statetransprobs)))+1\n",
    "    \n",
    "print(\"The final state is: \" + str(currstate))"
   ]
  },
  {
   "cell_type": "markdown",
   "metadata": {},
   "source": [
    "The previous simulation shows the result of running the markov chain once. Due to random probability of choosing states, the results will be different from running it several times, so to get the absorption probabilities for state $1$ and $4$ from starting from state $2$, run this chain many times, and count the number of times in each final state to get the distribution.\n",
    "\n",
    "### Run Experiments to Calculate Absorbing Probabilities"
   ]
  },
  {
   "cell_type": "code",
   "execution_count": 7,
   "metadata": {
    "collapsed": true
   },
   "outputs": [],
   "source": [
    "# run markov chain many times to compute distribution\n",
    "np.random.seed(77)\n",
    "absorbic_states = [1, 4]\n",
    "transient_states = [2, 3]\n",
    "numexp=10000\n",
    "simfprobs = np.zeros((2,2))\n",
    "\n",
    "for transstate in transient_states:\n",
    "    finalstates = np.zeros(numexp)\n",
    "    for i in range(numexp):\n",
    "        currstate=transstate\n",
    "        while currstate not in absorbic_states:\n",
    "            statevec = np.zeros((numstates,1))\n",
    "            statevec[currstate-1]=1\n",
    "            statetransprobs = np.dot(Mabs.T, statevec)\n",
    "            currstate = np.random.choice(a= list(range(numstates)), \n",
    "                                         p=np.squeeze(np.asarray(statetransprobs)))+1\n",
    "        finalstates[i]=currstate\n",
    "    unique, counts = np.unique(finalstates, return_counts=True)\n",
    "    #finalstatecounts= dict(zip(unique, counts)) \n",
    "    simfprobs[transstate-2,:]=counts/numexp\n",
    "    \n"
   ]
  },
  {
   "cell_type": "code",
   "execution_count": 8,
   "metadata": {},
   "outputs": [
    {
     "name": "stdout",
     "output_type": "stream",
     "text": [
      " from simulation:\n",
      " The final state absorbing probabilities starting from state 2 are, \n",
      " f21: 0.3514 and f24: 0.6486\n",
      " The final state absorbing probabilities starting from state 3 are, \n",
      " f31: 0.5954 and f34: 0.4046\n",
      "\n",
      " from exact calculation:\n",
      " The final state absorbing probabilities starting from state 2 are, \n",
      " f21: 0.347826086957 and f24: 0.652173913043\n",
      " The final state absorbing probabilities starting from state 3 are, \n",
      " f31: 0.594202898551 and f34: 0.405797101449\n",
      "\n",
      " Difference between simulation and calculation:\n",
      " f21: 0.00357391304348\n",
      " f24: -0.00357391304348\n",
      " f31: 0.00119710144928\n",
      " f34: -0.00119710144928\n"
     ]
    }
   ],
   "source": [
    "print(\" from simulation:\")\n",
    "print(\" The final state absorbing probabilities starting from state 2 are, \\n f21: \"\n",
    "      + str(simfprobs[0,0])+ \" and f24: \"+str(simfprobs[0,1]))\n",
    "print(\" The final state absorbing probabilities starting from state 3 are, \\n f31: \"\n",
    "      + str(simfprobs[1,0])+ \" and f34: \"+str(simfprobs[1,1]))\n",
    "\n",
    "print(\"\\n from exact calculation:\")\n",
    "print(\" The final state absorbing probabilities starting from state 2 are, \\n f21: \"\n",
    "      + str(fprobs[0,0])+ \" and f24: \"+str(fprobs[0,1]))\n",
    "print(\" The final state absorbing probabilities starting from state 3 are, \\n f31: \"\n",
    "      + str(fprobs[1,0])+ \" and f34: \"+str(fprobs[1,1]))\n",
    "\n",
    "print(\"\\n Difference between simulation and calculation:\")\n",
    "print(\" f21: \" + str(simfprobs[0,0]-fprobs[0,0]))\n",
    "print(\" f24: \" + str(simfprobs[0,1]-fprobs[0,1]))\n",
    "print(\" f31: \" + str(simfprobs[1,0]-fprobs[1,0]))\n",
    "print(\" f34: \" + str(simfprobs[1,1]-fprobs[1,1]))"
   ]
  },
  {
   "cell_type": "markdown",
   "metadata": {},
   "source": [
    "## Test Additional Examples\n",
    "The same code shown above will be run to generate results on additional example input matrices."
   ]
  },
  {
   "cell_type": "code",
   "execution_count": 9,
   "metadata": {
    "collapsed": true
   },
   "outputs": [],
   "source": [
    "from absorbic import test_absorbic"
   ]
  },
  {
   "cell_type": "code",
   "execution_count": 10,
   "metadata": {},
   "outputs": [
    {
     "name": "stdout",
     "output_type": "stream",
     "text": [
      " from simulation:\n",
      " The final state absorbing probabilities starting from state 2 are, \n",
      " f21: 0.4474 and f24: 0.5526\n",
      " The final state absorbing probabilities starting from state 3 are, \n",
      " f31: 0.7094 and f34: 0.2906\n",
      "\n",
      " from exact calculation:\n",
      " The final state absorbing probabilities starting from state 2 are, \n",
      " f21: 0.444444444444 and f24: 0.555555555556\n",
      " The final state absorbing probabilities starting from state 3 are, \n",
      " f31: 0.703703703704 and f34: 0.296296296296\n",
      "\n",
      " Difference between simulation and calculation:\n",
      " f21: 0.00295555555556\n",
      " f24: -0.00295555555556\n",
      " f31: 0.0056962962963\n",
      " f34: -0.0056962962963\n"
     ]
    }
   ],
   "source": [
    "testmat1 = np.matrix([[1,0,0,0], [0.1, 0.3, 0.3, 0.3], \n",
    "                      [0.5, 0.3, 0.1, 0.1], [0,0,0,1]])\n",
    "test_absorbic(testmat1)"
   ]
  },
  {
   "cell_type": "code",
   "execution_count": 11,
   "metadata": {},
   "outputs": [
    {
     "name": "stdout",
     "output_type": "stream",
     "text": [
      " from simulation:\n",
      " The final state absorbing probabilities starting from state 2 are, \n",
      " f21: 0.5021 and f24: 0.4979\n",
      " The final state absorbing probabilities starting from state 3 are, \n",
      " f31: 0.5015 and f34: 0.4985\n",
      "\n",
      " from exact calculation:\n",
      " The final state absorbing probabilities starting from state 2 are, \n",
      " f21: 0.5 and f24: 0.5\n",
      " The final state absorbing probabilities starting from state 3 are, \n",
      " f31: 0.5 and f34: 0.5\n",
      "\n",
      " Difference between simulation and calculation:\n",
      " f21: 0.0021\n",
      " f24: -0.0021\n",
      " f31: 0.0015\n",
      " f34: -0.0015\n"
     ]
    }
   ],
   "source": [
    "testmat2 = np.matrix([[1,0,0,0], [0.1, 0.4, 0.4, 0.1], \n",
    "                      [0.1, 0.6, 0.2, 0.1], [0,0,0,1]])\n",
    "test_absorbic(testmat2)"
   ]
  },
  {
   "cell_type": "code",
   "execution_count": 12,
   "metadata": {},
   "outputs": [
    {
     "name": "stdout",
     "output_type": "stream",
     "text": [
      " from simulation:\n",
      " The final state absorbing probabilities starting from state 2 are, \n",
      " f21: 0.3672 and f24: 0.6328\n",
      " The final state absorbing probabilities starting from state 3 are, \n",
      " f31: 0.4531 and f34: 0.5469\n",
      "\n",
      " from exact calculation:\n",
      " The final state absorbing probabilities starting from state 2 are, \n",
      " f21: 0.363636363636 and f24: 0.636363636364\n",
      " The final state absorbing probabilities starting from state 3 are, \n",
      " f31: 0.454545454545 and f34: 0.545454545455\n",
      "\n",
      " Difference between simulation and calculation:\n",
      " f21: 0.00356363636364\n",
      " f24: -0.00356363636364\n",
      " f31: -0.00144545454545\n",
      " f34: 0.00144545454545\n"
     ]
    }
   ],
   "source": [
    "testmat3 = np.matrix([[1,0,0,0], [0.2, 0.2, 0.2, 0.4], \n",
    "                      [0.25, 0.25, 0.25, 0.25], [0,0,0,1]])\n",
    "test_absorbic(testmat3)"
   ]
  }
 ],
 "metadata": {
  "kernelspec": {
   "display_name": "Python 3",
   "language": "python",
   "name": "python3"
  },
  "language_info": {
   "codemirror_mode": {
    "name": "ipython",
    "version": 3
   },
   "file_extension": ".py",
   "mimetype": "text/x-python",
   "name": "python",
   "nbconvert_exporter": "python",
   "pygments_lexer": "ipython3",
   "version": "3.6.2"
  }
 },
 "nbformat": 4,
 "nbformat_minor": 2
}
